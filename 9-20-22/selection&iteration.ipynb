{
 "cells": [
  {
   "cell_type": "code",
   "execution_count": null,
   "metadata": {},
   "outputs": [],
   "source": [
    "list1 = [3,2,5]\n",
    "list2 = [5,3,7,9,2]\n",
    "def quickSubSet(listOne, listTwo):\n",
    "    for i in listOne:\n",
    "        if i not in listTwo:\n",
    "            return False\n",
    "    return True\n",
    "print(quickSubSet(list1,list2))"
   ]
  },
  {
   "cell_type": "code",
   "execution_count": 2,
   "metadata": {},
   "outputs": [
    {
     "name": "stdout",
     "output_type": "stream",
     "text": [
      "[4, 8]\n"
     ]
    }
   ],
   "source": [
    "def getMultiples(number, depth):\n",
    "    multiples = []\n",
    "    for i in range(1 ,depth+1):\n",
    "        multiples.append(number*i)\n",
    "    return multiples\n",
    "\n",
    "print(getMultiples(int(input(\"What number?\")),int(input(\"what depth\"))))"
   ]
  }
 ],
 "metadata": {
  "kernelspec": {
   "display_name": "Python 3.9.12 ('base')",
   "language": "python",
   "name": "python3"
  },
  "language_info": {
   "codemirror_mode": {
    "name": "ipython",
    "version": 3
   },
   "file_extension": ".py",
   "mimetype": "text/x-python",
   "name": "python",
   "nbconvert_exporter": "python",
   "pygments_lexer": "ipython3",
   "version": "3.9.12"
  },
  "orig_nbformat": 4,
  "vscode": {
   "interpreter": {
    "hash": "585a938ec471c889bf0cce0aed741a99eaf47ca09c0fa8393793bc5bfe77ba11"
   }
  }
 },
 "nbformat": 4,
 "nbformat_minor": 2
}
