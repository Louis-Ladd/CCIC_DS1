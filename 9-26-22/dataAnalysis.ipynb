{
 "cells": [
  {
   "cell_type": "code",
   "execution_count": 11,
   "metadata": {},
   "outputs": [],
   "source": [
    "fav_programs = {\"WEB\":3,\"Python\":8,\"C#\":1,\"C++\":5,\"AS3\":0,\"GO\":0,\"Node\":1}\n",
    "fav_os = {\"Windows\":10,\"MacOS\":1,\"Linux\":1}\n",
    "problem_solver = {\"Problem Solvers\":5, \"Non-Problem Solvers\":9}"
   ]
  },
  {
   "cell_type": "code",
   "execution_count": 12,
   "metadata": {},
   "outputs": [
    {
     "name": "stdout",
     "output_type": "stream",
     "text": [
      "**Favorite Langs**\n",
      "\tWEB has 3 users\n",
      "\tPython has 8 users\n",
      "\tC# has 1 users\n",
      "\tC++ has 5 users\n",
      "\tAS3 has 0 users\n",
      "\tGO has 0 users\n",
      "\tNode has 1 users\n",
      "**Favorite OS's\n",
      "\tWindows has 10 users\n",
      "\tMacOS has 1 users\n",
      "\tLinux has 1 users\n",
      "**Problem Solvers**\n",
      "\tThere was 5 Problem Solver\n",
      "\tThere was 9 Non-Problem Solver\n"
     ]
    }
   ],
   "source": [
    "print(\"**Favorite Langs**\")\n",
    "for i in fav_programs:\n",
    "    print(f\"\\t{i} has {fav_programs[i]} users\")\n",
    "print(\"**Favorite OS's\")\n",
    "for i in fav_os:\n",
    "    print(f\"\\t{i} has {fav_os[i]} users\")\n",
    "print(\"**Problem Solvers**\")\n",
    "for i in problem_solver:\n",
    "    print(f\"\\tThere was {problem_solver[i]} {i}\")\n"
   ]
  }
 ],
 "metadata": {
  "kernelspec": {
   "display_name": "Python 3.9.12 ('base')",
   "language": "python",
   "name": "python3"
  },
  "language_info": {
   "codemirror_mode": {
    "name": "ipython",
    "version": 3
   },
   "file_extension": ".py",
   "mimetype": "text/x-python",
   "name": "python",
   "nbconvert_exporter": "python",
   "pygments_lexer": "ipython3",
   "version": "3.9.12"
  },
  "orig_nbformat": 4,
  "vscode": {
   "interpreter": {
    "hash": "585a938ec471c889bf0cce0aed741a99eaf47ca09c0fa8393793bc5bfe77ba11"
   }
  }
 },
 "nbformat": 4,
 "nbformat_minor": 2
}
