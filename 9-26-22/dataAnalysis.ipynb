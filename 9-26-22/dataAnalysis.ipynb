{
 "cells": [
  {
   "cell_type": "code",
   "execution_count": null,
   "metadata": {},
   "outputs": [],
   "source": [
    "fav_programs = {\"WEB\":3,\"Python\":8,\"C#\":1,\"C++\":5,\"AS3\":0,\"GO\":0,\"Node\":1}\n",
    "fav_os = {\"Windows\":10,\"MacOS\":1,\"Linux\":1}\n",
    "problem_solver = {\"Problem Solvers\":5, \"Non-Problem Solvers\":9}"
   ]
  },
  {
   "cell_type": "code",
   "execution_count": null,
   "metadata": {},
   "outputs": [],
   "source": [
    "print(\"**Favorite Langs**\")\n",
    "for i in fav_programs:\n",
    "    print(f\"\\t{i} has {fav_programs[i]} users\")\n",
    "print(\"**Favorite OS's\")\n",
    "for i in fav_os:\n",
    "    print(f\"\\t{i} has {fav_os[i]} users\")\n",
    "print(\"**Problem Solvers**\")\n",
    "for i in problem_solver:\n",
    "    print(f\"\\tThere was {problem_solver[i]} {i}\")\n"
   ]
  },
  {
   "cell_type": "code",
   "execution_count": 9,
   "metadata": {},
   "outputs": [
    {
     "name": "stdout",
     "output_type": "stream",
     "text": [
      "GCUAUAU\n"
     ]
    }
   ],
   "source": [
    "def transcribe(sequence):\n",
    "    tempSeq = \"\"\n",
    "    sequence = sequence.upper()\n",
    "    for i in sequence:\n",
    "        if i == \"A\":\n",
    "            tempSeq += \"U\"\n",
    "        elif i == \"T\":\n",
    "            tempSeq += \"A\"\n",
    "        elif i == \"G\":\n",
    "            tempSeq += \"C\"\n",
    "        elif i == \"C\":\n",
    "            tempSeq += \"G\"\n",
    "    return tempSeq\n",
    "print(transcribe(\"CGATATA\"))\n"
   ]
  },
  {
   "cell_type": "code",
   "execution_count": 13,
   "metadata": {},
   "outputs": [
    {
     "name": "stdout",
     "output_type": "stream",
     "text": [
      "defghijklmnopqrstuvwxyz\n"
     ]
    }
   ],
   "source": [
    "def get_missing_letters(missingLetters):\n",
    "    alphabet = \"abcdefghijklmnopqrstuvwxyz\"\n",
    "    temp = \"\"\n",
    "    missingLetters = missingLetters.lower()\n",
    "    for i in alphabet:\n",
    "        if i not in missingLetters:\n",
    "            temp += i\n",
    "    return temp\n",
    "print(get_missing_letters(\"abc\"))"
   ]
  },
  {
   "cell_type": "code",
   "execution_count": 43,
   "metadata": {},
   "outputs": [
    {
     "name": "stdout",
     "output_type": "stream",
     "text": [
      "-3\n"
     ]
    }
   ],
   "source": [
    "def search(values):\n",
    "    min = values[0]\n",
    "    for i in range(len(values)):\n",
    "        if values[i] <= min:\n",
    "            min = values[i]\n",
    "    return min\n",
    "\n",
    "print(search([1,-3,2]))"
   ]
  },
  {
   "cell_type": "code",
   "execution_count": 23,
   "metadata": {},
   "outputs": [
    {
     "name": "stdout",
     "output_type": "stream",
     "text": [
      "24995000\n",
      "3.5031898021698\n"
     ]
    }
   ],
   "source": [
    "import time\n",
    "import random\n",
    "numbers = []\n",
    "for i in range(0,5000):\n",
    "    #numbers.append(random.randrange(0,9999))\n",
    "    numbers.append(1)\n",
    "\"\"\"\n",
    "Bubble sort, start at the first number.\n",
    "is it smaller than the next? swap them if so.\n",
    "if not, continue to the next item in the list.\n",
    "do this for the amount of items in the list.\n",
    "\"\"\"\n",
    "def bogoSort(a):\n",
    "    n = len(a)\n",
    "    while (is_sorted(a)== False):\n",
    "        shuffle(a)\n",
    "# To check if array is sorted or not\n",
    "def is_sorted(a):\n",
    "    n = len(a)\n",
    "    for i in range(0, n-1):\n",
    "        if (a[i] > a[i+1] ):\n",
    "            return False\n",
    "    return True\n",
    "# To generate permutation of the array\n",
    "def shuffle(a):\n",
    "    n = len(a)\n",
    "    for i in range (0,n):\n",
    "        r = random.randint(0,n-1)\n",
    "        a[i], a[r] = a[r], a[i]\n",
    "\n",
    "def bubble_sort(nums):\n",
    "    count = 0\n",
    "    for x in range(0,len(nums)):\n",
    "        for i in range(0,len(nums)-1):\n",
    "            count +=1\n",
    "            if nums[i] > nums[i+1]:\n",
    "                temp = nums[i]\n",
    "                nums[i] = nums[i+1]\n",
    "                nums[i+1] = temp\n",
    "    print(count)\n",
    "    return nums\n",
    "t1 = time.time()\n",
    "bubble_sort(numbers)\n",
    "t2 = time.time()\n",
    "print(t2 - t1)\n",
    "performance = [[100,0.0011186599731445312],\n",
    "               [1000,0.12590432167053223],\n",
    "               [5000,2.8981480598449707],\n",
    "               [10000,11.763034582138062],\n",
    "               [15000,30.192933320999146]\n",
    "               ]"
   ]
  },
  {
   "cell_type": "code",
   "execution_count": 2,
   "metadata": {},
   "outputs": [
    {
     "data": {
      "text/plain": [
       "1"
      ]
     },
     "execution_count": 2,
     "metadata": {},
     "output_type": "execute_result"
    }
   ],
   "source": [
    "def solutions(a, b, c):\n",
    "    if ((b * b) - (4 * a * c)) > 0:\n",
    "        return 2\n",
    "    elif ((b * b) - (4 * a * c)) == 0:\n",
    "        return 1 \n",
    "    else:\n",
    "        return 0\n",
    "solutions(1,0,0)\n"
   ]
  }
 ],
 "metadata": {
  "kernelspec": {
   "display_name": "Python 3.9.12 ('base')",
   "language": "python",
   "name": "python3"
  },
  "language_info": {
   "codemirror_mode": {
    "name": "ipython",
    "version": 3
   },
   "file_extension": ".py",
   "mimetype": "text/x-python",
   "name": "python",
   "nbconvert_exporter": "python",
   "pygments_lexer": "ipython3",
   "version": "3.9.12"
  },
  "orig_nbformat": 4,
  "vscode": {
   "interpreter": {
    "hash": "585a938ec471c889bf0cce0aed741a99eaf47ca09c0fa8393793bc5bfe77ba11"
   }
  }
 },
 "nbformat": 4,
 "nbformat_minor": 2
}
