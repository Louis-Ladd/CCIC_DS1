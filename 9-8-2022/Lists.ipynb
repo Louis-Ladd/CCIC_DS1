{
 "cells": [
  {
   "cell_type": "code",
   "execution_count": 10,
   "metadata": {},
   "outputs": [],
   "source": [
    "foods = [\"Egg\", \"Tres leches\", \"Spicy Chicken\"]\n",
    "foods[len(foods)-len(foods)] = \"Spinach\" #lol\n",
    "foods[len(foods)-1] = \"Egg\""
   ]
  },
  {
   "cell_type": "code",
   "execution_count": 19,
   "id": "23e93f3f",
   "metadata": {},
   "outputs": [],
   "source": [
    "people = [[\"Ellie\",4.5,60,10], \n",
    "          [\"Sofia\",4.75,75,11], \n",
    "          [\"Jesus\",5,80,10], \n",
    "          [\"Jamal\",4.17,45,10],\n",
    "          [\"Poppy\",5.1,80,11]]\n",
    "for i in range(len(people)): #EC least lines for seeing data\n",
    "    print(f\"Name:{people[i][0]} Height:{people[i][1]} Weight:{people[i][2]} Age:{people[i][3]}\")"
   ]
  },
  {
   "cell_type": "code",
   "execution_count": 20,
   "id": "a6bacb7b",
   "metadata": {},
   "outputs": [
    {
     "name": "stdout",
     "output_type": "stream",
     "text": [
      "5.1\n"
     ]
    }
   ],
   "source": [
    "print(people[4][1])"
   ]
  }
 ],
 "metadata": {
  "kernelspec": {
   "display_name": "Python 3.9.12 ('base')",
   "language": "python",
   "name": "python3"
  },
  "language_info": {
   "codemirror_mode": {
    "name": "ipython",
    "version": 3
   },
   "file_extension": ".py",
   "mimetype": "text/x-python",
   "name": "python",
   "nbconvert_exporter": "python",
   "pygments_lexer": "ipython3",
   "version": "3.9.12"
  },
  "vscode": {
   "interpreter": {
    "hash": "585a938ec471c889bf0cce0aed741a99eaf47ca09c0fa8393793bc5bfe77ba11"
   }
  }
 },
 "nbformat": 4,
 "nbformat_minor": 5
}
