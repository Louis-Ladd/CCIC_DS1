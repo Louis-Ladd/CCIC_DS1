{
 "cells": [
  {
   "cell_type": "code",
   "execution_count": 19,
   "id": "08aaa099",
   "metadata": {},
   "outputs": [
    {
     "name": "stdout",
     "output_type": "stream",
     "text": [
      "594.38\n"
     ]
    }
   ],
   "source": [
    "print(round(400 * (1+0.02/1)**(1*20),2))\n"
   ]
  },
  {
   "cell_type": "code",
   "execution_count": 27,
   "id": "e7a56500",
   "metadata": {},
   "outputs": [
    {
     "name": "stdout",
     "output_type": "stream",
     "text": [
      "Fee Amount:19.6\n",
      "Total Ammount:120.4\n"
     ]
    }
   ],
   "source": [
    "print(\"Fee Amount:\"+str(140*0.14) + \"\\nTotal Ammount:\"+str(140-(140*0.14)))"
   ]
  },
  {
   "cell_type": "code",
   "execution_count": 29,
   "id": "8b3054b9",
   "metadata": {},
   "outputs": [
    {
     "name": "stdout",
     "output_type": "stream",
     "text": [
      "308.87\n"
     ]
    }
   ],
   "source": [
    "print(round(300 * (1+0.06/1)**(1*0.5),2))"
   ]
  },
  {
   "cell_type": "code",
   "execution_count": 43,
   "id": "f1cd7018",
   "metadata": {},
   "outputs": [
    {
     "name": "stdout",
     "output_type": "stream",
     "text": [
      "975.0\n",
      "4.411764705882353\n"
     ]
    }
   ],
   "source": [
    "print(round((850*0.03 + 120*0.10),2) * 26)\n",
    "print((round((850*0.03 + 120*0.10),2) * 26)/22100*100)\n"
   ]
  },
  {
   "cell_type": "code",
   "execution_count": 46,
   "id": "af4a9bfe",
   "metadata": {},
   "outputs": [
    {
     "name": "stdout",
     "output_type": "stream",
     "text": [
      "12.5\n"
     ]
    }
   ],
   "source": [
    "print((50/400)*100)"
   ]
  },
  {
   "cell_type": "code",
   "execution_count": 48,
   "id": "4ca29e3c",
   "metadata": {},
   "outputs": [
    {
     "name": "stdout",
     "output_type": "stream",
     "text": [
      "1288.05\n",
      "96.95\n"
     ]
    }
   ],
   "source": [
    "print(1385-(1385*0.07))\n",
    "print((1385*0.07))#amount paid\n"
   ]
  }
 ],
 "metadata": {
  "kernelspec": {
   "display_name": "Python 3 (ipykernel)",
   "language": "python",
   "name": "python3"
  },
  "language_info": {
   "codemirror_mode": {
    "name": "ipython",
    "version": 3
   },
   "file_extension": ".py",
   "mimetype": "text/x-python",
   "name": "python",
   "nbconvert_exporter": "python",
   "pygments_lexer": "ipython3",
   "version": "3.9.12"
  }
 },
 "nbformat": 4,
 "nbformat_minor": 5
}
