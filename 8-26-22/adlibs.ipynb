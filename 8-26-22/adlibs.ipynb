{
 "cells": [
  {
   "cell_type": "code",
   "execution_count": null,
   "id": "06745650",
   "metadata": {},
   "outputs": [],
   "source": [
    "#Metamodernity - Vansire\n",
    "#Floral Fury - Kristofer Maddigan\n",
    "#PLastic Love - Mariya Takeuchi\n",
    "#Shooting Stars - Bag Raiders\n",
    "#Loretta (日本語Version)\n",
    "#What's New, Scooby-Doo? - Simple Plan\n",
    "#Tamacún - Rodrigo Y Gabriela\n",
    "#24/7/365 - Surfaces\n",
    "#Safe and Sound - Capital Cities\n",
    "#Baby I'm yours - Breakbot\n",
    "#Homage - Mild High Club\n",
    "#The less I Know The Better - Tame Impala\n",
    "#\n",
    "#"
   ]
  },
  {
   "cell_type": "code",
   "execution_count": null,
   "id": "d161f514",
   "metadata": {},
   "outputs": [],
   "source": [
    "\"\"\"\n",
    "I hate 100 gecs\n",
    "I hate 100 gecs\n",
    "I hate 100 gecs\n",
    "I hate 100 gecs\n",
    "I hate 100 gecs\n",
    "I hate 100 gecs\n",
    "I hate 100 gecs\n",
    "I hate 100 gecs\n",
    "I hate 100 gecs\n",
    "I hate 100 gecs\n",
    "I hate 100 gecs\n",
    "I hate 100 gecs\n",
    "I hate 100 gecs\n",
    "I hate 100 gecs\n",
    "I hate 100 gecs\n",
    "I hate 100 gecs\n",
    "I hate 100 gecs\n",
    "I hate 100 gecs\n",
    "\"\"\""
   ]
  },
  {
   "cell_type": "code",
   "execution_count": 1,
   "id": "b6b5ef9e",
   "metadata": {},
   "outputs": [
    {
     "name": "stdout",
     "output_type": "stream",
     "text": [
      "Wall-E is my favorite movie, Metamodernity, is my favorite song and Nyxia is my favorite book\n"
     ]
    }
   ],
   "source": [
    "fav_movie, fav_song, fav_book = \"Wall-E\", \"Metamodernity\", \"Nyxia\"\n",
    "\n",
    "print(f\"{fav_movie} is my favorite movie, {fav_song}, is my favorite song and {fav_book} is my favorite book\")"
   ]
  },
  {
   "cell_type": "code",
   "execution_count": 6,
   "id": "3ca9de42",
   "metadata": {
    "scrolled": false
   },
   "outputs": [
    {
     "ename": "SyntaxError",
     "evalue": "f-string: unmatched '[' (857169558.py, line 4)",
     "output_type": "error",
     "traceback": [
      "\u001b[1;36m  Input \u001b[1;32mIn [6]\u001b[1;36m\u001b[0m\n\u001b[1;33m    print(f\"{interests[\"movie\"]} is my favorite movie, {interests[\"song\"]}, is my favorite song and {interests[\"book\"]} is my favorite book\")\u001b[0m\n\u001b[1;37m                        ^\u001b[0m\n\u001b[1;31mSyntaxError\u001b[0m\u001b[1;31m:\u001b[0m f-string: unmatched '['\n"
     ]
    }
   ],
   "source": [
    "#Extra Credit\n",
    "interests = {\"movie\": \"Wall-E\", \"song\": \"Metamodernity\", \"book\" : \"Nyxia\"}\n",
    "\n",
    "print(f\"{interests[\"movie\"]} is my favorite movie, {interests[\"song\"]}, is my favorite song and {interests[\"book\"]} is my favorite book\")\n",
    "for value in interests.values():\n",
    "    print(value)"
   ]
  },
  {
   "cell_type": "code",
   "execution_count": 14,
   "id": "a6b2d039",
   "metadata": {},
   "outputs": [
    {
     "name": "stdout",
     "output_type": "stream",
     "text": [
      "Newspaper criticts agree that 'asdf and adsf'\n",
      "\n",
      "is a comedy ad that will knock your asdf off.\n",
      "\n",
      "'It will tickle your funny sadf!'\n",
      "\n",
      "- The Washington asfd\n",
      "'Two asdfasdf up!'\n",
      "\n",
      "-Ebert and asdf\n",
      "\n",
      "'A smart, asdf and asdf comedy. You don't only\n",
      "\n",
      "laugh, but it brings asdf to your eyes'\n",
      "-The New Orleans times-sadf\n",
      "\n",
      "'a asdf funny half-hourasdfas;asdf acted by a asdf cast of all-star asdf.'\n",
      "\n",
      "-The Chicago Sun-df\n",
      "\n",
      "\n",
      "This article was written by adsf\n"
     ]
    }
   ],
   "source": [
    "from IPython.display import *\n",
    "adjective1 = input(\"Adjective: \")\n",
    "clear_output(wait=True)\n",
    "adjective2 = input(\"Adjective: \")\n",
    "clear_output(wait=True)\n",
    "adjective3 = input(\"Adjective: \")\n",
    "clear_output(wait=True)\n",
    "adverb1 = input(\"Adverb: \")\n",
    "clear_output(wait=True)\n",
    "adverb2= input(\"Adverb: \")\n",
    "clear_output(wait=True)\n",
    "female_first_name = input(\"Female First Name: \")\n",
    "clear_output(wait=True)\n",
    "person_last_name = input(\"Last Name of Person: \")\n",
    "clear_output(wait=True)\n",
    "male_first_name = input(\"Male First Name: \")\n",
    "clear_output(wait=True)\n",
    "noun1 = input(\"Noun: \")\n",
    "clear_output(wait=True)\n",
    "noun2 = input(\"Noun: \")\n",
    "clear_output(wait=True)\n",
    "noun3 = input(\"Noun: \")\n",
    "clear_output(wait=True)\n",
    "noun4 = input(\"Noun: \")\n",
    "clear_output(wait=True)\n",
    "noun5 = input(\"Noun: \")\n",
    "clear_output(wait=True)\n",
    "part_of_body = input(\"Part of the Body: \")\n",
    "clear_output(wait=True)\n",
    "part_of_body_plural= input(\"Part of the body (Plural): \")\n",
    "clear_output(wait=True)\n",
    "plural_clothing= input(\"Article of Clothing (Plural): \")\n",
    "clear_output(wait=True)\n",
    "plural_noun1 = input(\"Noun (Plural): \")\n",
    "clear_output(wait=True)\n",
    "plural_noun2 = input(\"Noun (Plural): \")\n",
    "clear_output(wait=True)\n",
    "hated_thing = input(\"Thing you hate: \")\n",
    "clear_output(wait=True)\n",
    "\n",
    "\n",
    "print(f\"\"\"Newspaper criticts agree that '{male_first_name} and {female_first_name}'\\n\n",
    "is a comedy ad that will knock your {plural_clothing} off.\\n\n",
    "'It will tickle your funny {part_of_body}!'\\n\n",
    "- The Washington {noun2}\n",
    "'Two {part_of_body_plural} up!'\\n\n",
    "-Ebert and {person_last_name}\\n\n",
    "'A smart, {adjective1} and {adjective2} comedy. You don't only\\n\n",
    "laugh, but it brings {plural_noun1} to your eyes'\n",
    "-The New Orleans times-{noun3}\\n\n",
    "'a {adverb1} funny half-hour{noun4};{adverb2} acted by a {adjective3} cast of all-star {plural_noun2}.'\\n\n",
    "-The Chicago Sun-{noun5}\\n\n",
    "\n",
    "This article was written by {hated_thing}\"\"\")"
   ]
  },
  {
   "cell_type": "code",
   "execution_count": null,
   "id": "706ba37b",
   "metadata": {},
   "outputs": [],
   "source": []
  }
 ],
 "metadata": {
  "kernelspec": {
   "display_name": "Python 3 (ipykernel)",
   "language": "python",
   "name": "python3"
  },
  "language_info": {
   "codemirror_mode": {
    "name": "ipython",
    "version": 3
   },
   "file_extension": ".py",
   "mimetype": "text/x-python",
   "name": "python",
   "nbconvert_exporter": "python",
   "pygments_lexer": "ipython3",
   "version": "3.9.12"
  }
 },
 "nbformat": 4,
 "nbformat_minor": 5
}
