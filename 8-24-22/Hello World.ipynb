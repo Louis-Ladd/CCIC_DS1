{
 "cells": [
  {
   "cell_type": "code",
   "execution_count": 46,
   "id": "a445dc14",
   "metadata": {
    "scrolled": true
   },
   "outputs": [
    {
     "name": "stdout",
     "output_type": "stream",
     "text": [
      "hi!\n",
      "My name is\n"
     ]
    },
    {
     "ename": "KeyboardInterrupt",
     "evalue": "",
     "output_type": "error",
     "traceback": [
      "\u001b[1;31m---------------------------------------------------------------------------\u001b[0m",
      "\u001b[1;31mKeyboardInterrupt\u001b[0m                         Traceback (most recent call last)",
      "Input \u001b[1;32mIn [46]\u001b[0m, in \u001b[0;36m<cell line: 5>\u001b[1;34m()\u001b[0m\n\u001b[0;32m      6\u001b[0m time\u001b[38;5;241m.\u001b[39msleep(\u001b[38;5;241m0.59\u001b[39m)\n\u001b[0;32m      7\u001b[0m \u001b[38;5;28mprint\u001b[39m(\u001b[38;5;124m\"\u001b[39m\u001b[38;5;124mMy name is\u001b[39m\u001b[38;5;124m\"\u001b[39m)\n\u001b[1;32m----> 8\u001b[0m \u001b[43mtime\u001b[49m\u001b[38;5;241;43m.\u001b[39;49m\u001b[43msleep\u001b[49m\u001b[43m(\u001b[49m\u001b[38;5;241;43m0.59\u001b[39;49m\u001b[43m)\u001b[49m\n\u001b[0;32m      9\u001b[0m \u001b[38;5;28mprint\u001b[39m(\u001b[38;5;124m\"\u001b[39m\u001b[38;5;124mWhat?\u001b[39m\u001b[38;5;124m\"\u001b[39m)\n\u001b[0;32m     10\u001b[0m time\u001b[38;5;241m.\u001b[39msleep(\u001b[38;5;241m0.59\u001b[39m)\n",
      "\u001b[1;31mKeyboardInterrupt\u001b[0m: "
     ]
    }
   ],
   "source": [
    "import time\n",
    "import os\n",
    "\n",
    "while True:\n",
    "    print(\"hi!\")\n",
    "    time.sleep(0.59)\n",
    "    print(\"My name is\")\n",
    "    time.sleep(0.59)\n",
    "    print(\"What?\")\n",
    "    time.sleep(0.59)\n",
    "    print(\"My name is\")\n",
    "    time.sleep(0.59)\n",
    "    print(\"Who?\")\n",
    "    time.sleep(0.59)\n",
    "    print(\"My name is\")\n",
    "    time.sleep(0.59)\n",
    "    print(\"Chika-Chika\")\n",
    "    time.sleep(0.59)\n",
    "    print(\"Louis\")\n",
    "    time.sleep(0.59)"
   ]
  },
  {
   "cell_type": "code",
   "execution_count": null,
   "id": "8000b56e",
   "metadata": {
    "scrolled": false
   },
   "outputs": [],
   "source": [
    "import time\n",
    "import random\n",
    "import sys\n",
    "from IPython.display import *\n",
    "\n",
    "\n",
    "spaceStuff = [\"*\",\".\",\"'\",\",\"]\n",
    "\n",
    "sizeX = 25\n",
    "sizeY = 20\n",
    "posX = 2\n",
    "posY = 2\n",
    "ticker = 0\n",
    "dir = \"left\"\n",
    "console = sys.stdout\n",
    "\n",
    "\n",
    "while True:\n",
    "    ticker+=1\n",
    "    for y in range(0,sizeY):\n",
    "        for x in range(0,sizeX):\n",
    "            if x == posX and y == posY:\n",
    "                console.write(\"H\")\n",
    "            else:\n",
    "                if random.randrange(0,100) < 10:\n",
    "                    if random.randrange(0,1000) < 2:\n",
    "                        console.write(\"%\")\n",
    "                    else:\n",
    "                        console.write(spaceStuff[random.randrange(0,4)])\n",
    "                \n",
    "                else:\n",
    "                    console.write(\" \")\n",
    "            if x == sizeX-1:\n",
    "                console.write(\"\\n\")\n",
    "    if posX >= sizeX-1:\n",
    "        dir = \"left\"\n",
    "        posY += 1\n",
    "    elif posX <= 0:\n",
    "        dir = \"right\"\n",
    "        posY += 1\n",
    "\n",
    "    if dir == \"right\":\n",
    "        posX +=1\n",
    "    if dir == \"left\":\n",
    "        posX -=1\n",
    "    if posY >= sizeY:\n",
    "        posX, posY = 0,0\n",
    "    time.sleep(0.1)\n",
    "    console.flush()\n",
    "    clear_output(wait=True)\n",
    "         "
   ]
  },
  {
   "cell_type": "code",
   "execution_count": 55,
   "id": "e676c4b6",
   "metadata": {},
   "outputs": [
    {
     "name": "stdout",
     "output_type": "stream",
     "text": [
      "post malone drake\n",
      "drake post malone\n"
     ]
    }
   ],
   "source": [
    "artist1 = \"post malone\"\n",
    "artist2 = \"drake\"\n",
    "print(artist1 + \" \" + artist2)\n",
    "\n",
    "def swapanator(x,y):\n",
    "    temp = x\n",
    "    x = y\n",
    "    y = temp\n",
    "    return x,y\n",
    "\n",
    "artist1, artist2 = swapanator(artist1, artist2)\n",
    "print(artist1 + \" \" + artist2)"
   ]
  },
  {
   "cell_type": "code",
   "execution_count": null,
   "id": "67999da9",
   "metadata": {},
   "outputs": [],
   "source": []
  }
 ],
 "metadata": {
  "kernelspec": {
   "display_name": "Python 3 (ipykernel)",
   "language": "python",
   "name": "python3"
  },
  "language_info": {
   "codemirror_mode": {
    "name": "ipython",
    "version": 3
   },
   "file_extension": ".py",
   "mimetype": "text/x-python",
   "name": "python",
   "nbconvert_exporter": "python",
   "pygments_lexer": "ipython3",
   "version": "3.9.12"
  }
 },
 "nbformat": 4,
 "nbformat_minor": 5
}
