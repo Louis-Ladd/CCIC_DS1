{
 "cells": [
  {
   "cell_type": "code",
   "execution_count": null,
   "id": "3c7159ea",
   "metadata": {},
   "outputs": [],
   "source": [
    "x = {\"monday\":\"Homework\", \"tuesday\":\"Some more homework\", \"wednesday\":\"Fix something around the house\", \"thursday\":\"prepare for tommorow\", \"friday\":\"practice with the band\", \"saturday\":\"sleep\", \"sunday\":\"work\"}\n",
    "print(\"Which day of the week?\")\n",
    "print(\"I am going to \" + x[input().lower()] + \" that day\")"
   ]
  },
  {
   "cell_type": "code",
   "execution_count": 1,
   "id": "f534644a",
   "metadata": {},
   "outputs": [],
   "source": [
    "x = {1:[\"2001-08-01\",\"Wednesday\",50,25,71],2:[\"2001-08-02\",\"Thursday\",60,31,53],3:[\"2001-08-03\",\"Friday\",51,24,50],4:[\"2001-08-04\",\"Saturday\",79,21,69],5:[\"2001-08-05\",\"Sunday\",77,39,57],6:[\"2001-08-06\",\"Monday\",93,40,66],7:[\"2001-08-07\",\"Tuesday\",55,32,63],8:[\"2001-08-08\",\"Wednesday\",87,89,1]}"
   ]
  },
  {
   "cell_type": "code",
   "execution_count": 2,
   "id": "8901d3f7",
   "metadata": {},
   "outputs": [
    {
     "name": "stdout",
     "output_type": "stream",
     "text": [
      "{1: ['2001-08-01', 'Wednesday', 50, 25, 71], 2: ['2001-08-02', 'Thursday', 60, 31, 53], 3: ['2001-08-03', 'Friday', 51, 24, 50], 4: ['2001-08-04', 'Saturday', 79, 21, 69], 5: ['2001-08-05', 'Sunday', 77, 39, 57], 6: ['2001-08-06', 'Monday', 93, 40, 66], 7: ['2001-08-07', 'Tuesday', 55, 32, 63], 8: ['2001-08-08', 'Wednesday', 87, 89, 1]}\n",
      "{2: ['2001-08-02', 'Thursday', 60, 31, 53], 3: ['2001-08-03', 'Friday', 51, 24, 50], 4: ['2001-08-04', 'Saturday', 79, 21, 69], 5: ['2001-08-05', 'Sunday', 77, 39, 57], 6: ['2001-08-06', 'Monday', 93, 40, 66], 7: ['2001-08-07', 'Tuesday', 55, 32, 63], 8: ['2001-08-08', 'Wednesday', 87, 89, 1]}\n"
     ]
    }
   ],
   "source": [
    "print(x)\n",
    "del x[1]\n",
    "print(x)"
   ]
  }
 ],
 "metadata": {
  "kernelspec": {
   "display_name": "Python 3.9.12 ('base')",
   "language": "python",
   "name": "python3"
  },
  "language_info": {
   "codemirror_mode": {
    "name": "ipython",
    "version": 3
   },
   "file_extension": ".py",
   "mimetype": "text/x-python",
   "name": "python",
   "nbconvert_exporter": "python",
   "pygments_lexer": "ipython3",
   "version": "3.9.12"
  },
  "vscode": {
   "interpreter": {
    "hash": "585a938ec471c889bf0cce0aed741a99eaf47ca09c0fa8393793bc5bfe77ba11"
   }
  }
 },
 "nbformat": 4,
 "nbformat_minor": 5
}
